{
 "cells": [
  {
   "cell_type": "markdown",
   "id": "689c773a",
   "metadata": {},
   "source": [
    "  ### Importing Libraries to perform array, dataframe and displaying\n",
    "  \n"
   ]
  },
  {
   "cell_type": "code",
   "execution_count": 1,
   "id": "1148274e",
   "metadata": {},
   "outputs": [],
   "source": [
    "import pandas as pd\n",
    "import numpy  as np\n",
    "import matplotlib.pyplot as plt\n"
   ]
  },
  {
   "cell_type": "markdown",
   "id": "c4918166",
   "metadata": {},
   "source": [
    "### Directory of the divorce data cv file  downloaded from kaggle site file to the working environment\n"
   ]
  },
  {
   "cell_type": "code",
   "execution_count": 2,
   "id": "9f8d65a0",
   "metadata": {},
   "outputs": [],
   "source": [
    "df=pd.read_csv('C:/Users/marpu/OneDrive/Desktop/divorce.csv',header=0)"
   ]
  },
  {
   "cell_type": "markdown",
   "id": "00d42c77",
   "metadata": {},
   "source": [
    "### checking the first 5 row of the dataset"
   ]
  },
  {
   "cell_type": "code",
   "execution_count": 3,
   "id": "0ee4ea52",
   "metadata": {},
   "outputs": [
    {
     "data": {
      "text/html": [
       "<div>\n",
       "<style scoped>\n",
       "    .dataframe tbody tr th:only-of-type {\n",
       "        vertical-align: middle;\n",
       "    }\n",
       "\n",
       "    .dataframe tbody tr th {\n",
       "        vertical-align: top;\n",
       "    }\n",
       "\n",
       "    .dataframe thead th {\n",
       "        text-align: right;\n",
       "    }\n",
       "</style>\n",
       "<table border=\"1\" class=\"dataframe\">\n",
       "  <thead>\n",
       "    <tr style=\"text-align: right;\">\n",
       "      <th></th>\n",
       "      <th>Sorry_end</th>\n",
       "      <th>Ignore_diff</th>\n",
       "      <th>begin_correct</th>\n",
       "      <th>Contact</th>\n",
       "      <th>Special_time</th>\n",
       "      <th>No_home_time</th>\n",
       "      <th>2_strangers</th>\n",
       "      <th>enjoy_holiday</th>\n",
       "      <th>enjoy_travel</th>\n",
       "      <th>common_goals</th>\n",
       "      <th>...</th>\n",
       "      <th>silence_for_harm</th>\n",
       "      <th>silence_fear_anger</th>\n",
       "      <th>I'm_right</th>\n",
       "      <th>accusations</th>\n",
       "      <th>I'm_not_guilty</th>\n",
       "      <th>I'm_not_wrong</th>\n",
       "      <th>no_hesitancy_inadequate</th>\n",
       "      <th>you're_inadequate</th>\n",
       "      <th>incompetence</th>\n",
       "      <th>Divorce_Y_N</th>\n",
       "    </tr>\n",
       "  </thead>\n",
       "  <tbody>\n",
       "    <tr>\n",
       "      <th>0</th>\n",
       "      <td>2</td>\n",
       "      <td>2</td>\n",
       "      <td>4</td>\n",
       "      <td>1</td>\n",
       "      <td>0</td>\n",
       "      <td>0</td>\n",
       "      <td>0</td>\n",
       "      <td>0</td>\n",
       "      <td>0</td>\n",
       "      <td>0</td>\n",
       "      <td>...</td>\n",
       "      <td>2</td>\n",
       "      <td>1</td>\n",
       "      <td>3</td>\n",
       "      <td>3</td>\n",
       "      <td>3</td>\n",
       "      <td>2</td>\n",
       "      <td>3</td>\n",
       "      <td>2</td>\n",
       "      <td>1</td>\n",
       "      <td>1</td>\n",
       "    </tr>\n",
       "    <tr>\n",
       "      <th>1</th>\n",
       "      <td>4</td>\n",
       "      <td>4</td>\n",
       "      <td>4</td>\n",
       "      <td>4</td>\n",
       "      <td>4</td>\n",
       "      <td>0</td>\n",
       "      <td>0</td>\n",
       "      <td>4</td>\n",
       "      <td>4</td>\n",
       "      <td>4</td>\n",
       "      <td>...</td>\n",
       "      <td>2</td>\n",
       "      <td>2</td>\n",
       "      <td>3</td>\n",
       "      <td>4</td>\n",
       "      <td>4</td>\n",
       "      <td>4</td>\n",
       "      <td>4</td>\n",
       "      <td>2</td>\n",
       "      <td>2</td>\n",
       "      <td>1</td>\n",
       "    </tr>\n",
       "    <tr>\n",
       "      <th>2</th>\n",
       "      <td>2</td>\n",
       "      <td>2</td>\n",
       "      <td>2</td>\n",
       "      <td>2</td>\n",
       "      <td>1</td>\n",
       "      <td>3</td>\n",
       "      <td>2</td>\n",
       "      <td>1</td>\n",
       "      <td>1</td>\n",
       "      <td>2</td>\n",
       "      <td>...</td>\n",
       "      <td>3</td>\n",
       "      <td>2</td>\n",
       "      <td>3</td>\n",
       "      <td>1</td>\n",
       "      <td>1</td>\n",
       "      <td>1</td>\n",
       "      <td>2</td>\n",
       "      <td>2</td>\n",
       "      <td>2</td>\n",
       "      <td>1</td>\n",
       "    </tr>\n",
       "    <tr>\n",
       "      <th>3</th>\n",
       "      <td>3</td>\n",
       "      <td>2</td>\n",
       "      <td>3</td>\n",
       "      <td>2</td>\n",
       "      <td>3</td>\n",
       "      <td>3</td>\n",
       "      <td>3</td>\n",
       "      <td>3</td>\n",
       "      <td>3</td>\n",
       "      <td>3</td>\n",
       "      <td>...</td>\n",
       "      <td>2</td>\n",
       "      <td>2</td>\n",
       "      <td>3</td>\n",
       "      <td>3</td>\n",
       "      <td>3</td>\n",
       "      <td>3</td>\n",
       "      <td>2</td>\n",
       "      <td>2</td>\n",
       "      <td>2</td>\n",
       "      <td>1</td>\n",
       "    </tr>\n",
       "    <tr>\n",
       "      <th>4</th>\n",
       "      <td>2</td>\n",
       "      <td>2</td>\n",
       "      <td>1</td>\n",
       "      <td>1</td>\n",
       "      <td>1</td>\n",
       "      <td>1</td>\n",
       "      <td>0</td>\n",
       "      <td>0</td>\n",
       "      <td>0</td>\n",
       "      <td>0</td>\n",
       "      <td>...</td>\n",
       "      <td>2</td>\n",
       "      <td>1</td>\n",
       "      <td>2</td>\n",
       "      <td>3</td>\n",
       "      <td>2</td>\n",
       "      <td>2</td>\n",
       "      <td>2</td>\n",
       "      <td>1</td>\n",
       "      <td>0</td>\n",
       "      <td>1</td>\n",
       "    </tr>\n",
       "  </tbody>\n",
       "</table>\n",
       "<p>5 rows × 55 columns</p>\n",
       "</div>"
      ],
      "text/plain": [
       "   Sorry_end  Ignore_diff  begin_correct  Contact  Special_time  No_home_time  \\\n",
       "0          2            2              4        1             0             0   \n",
       "1          4            4              4        4             4             0   \n",
       "2          2            2              2        2             1             3   \n",
       "3          3            2              3        2             3             3   \n",
       "4          2            2              1        1             1             1   \n",
       "\n",
       "   2_strangers  enjoy_holiday  enjoy_travel  common_goals  ...  \\\n",
       "0            0              0             0             0  ...   \n",
       "1            0              4             4             4  ...   \n",
       "2            2              1             1             2  ...   \n",
       "3            3              3             3             3  ...   \n",
       "4            0              0             0             0  ...   \n",
       "\n",
       "   silence_for_harm  silence_fear_anger  I'm_right  accusations  \\\n",
       "0                 2                   1          3            3   \n",
       "1                 2                   2          3            4   \n",
       "2                 3                   2          3            1   \n",
       "3                 2                   2          3            3   \n",
       "4                 2                   1          2            3   \n",
       "\n",
       "   I'm_not_guilty  I'm_not_wrong  no_hesitancy_inadequate  you're_inadequate  \\\n",
       "0               3              2                        3                  2   \n",
       "1               4              4                        4                  2   \n",
       "2               1              1                        2                  2   \n",
       "3               3              3                        2                  2   \n",
       "4               2              2                        2                  1   \n",
       "\n",
       "   incompetence  Divorce_Y_N  \n",
       "0             1            1  \n",
       "1             2            1  \n",
       "2             2            1  \n",
       "3             2            1  \n",
       "4             0            1  \n",
       "\n",
       "[5 rows x 55 columns]"
      ]
     },
     "execution_count": 3,
     "metadata": {},
     "output_type": "execute_result"
    }
   ],
   "source": [
    "df.head()"
   ]
  },
  {
   "cell_type": "markdown",
   "id": "3f070997",
   "metadata": {},
   "source": [
    "### showing the all the column in the divorce dataset to check for missing null"
   ]
  },
  {
   "cell_type": "code",
   "execution_count": 4,
   "id": "656bca6e",
   "metadata": {},
   "outputs": [
    {
     "name": "stdout",
     "output_type": "stream",
     "text": [
      "<class 'pandas.core.frame.DataFrame'>\n",
      "RangeIndex: 170 entries, 0 to 169\n",
      "Data columns (total 55 columns):\n",
      " #   Column                         Non-Null Count  Dtype\n",
      "---  ------                         --------------  -----\n",
      " 0   Sorry_end                      170 non-null    int64\n",
      " 1   Ignore_diff                    170 non-null    int64\n",
      " 2   begin_correct                  170 non-null    int64\n",
      " 3   Contact                        170 non-null    int64\n",
      " 4   Special_time                   170 non-null    int64\n",
      " 5   No_home_time                   170 non-null    int64\n",
      " 6   2_strangers                    170 non-null    int64\n",
      " 7   enjoy_holiday                  170 non-null    int64\n",
      " 8   enjoy_travel                   170 non-null    int64\n",
      " 9   common_goals                   170 non-null    int64\n",
      " 10  harmony                        170 non-null    int64\n",
      " 11  freeom_value                   170 non-null    int64\n",
      " 12  entertain                      170 non-null    int64\n",
      " 13  people_goals                   170 non-null    int64\n",
      " 14  dreams                         170 non-null    int64\n",
      " 15  love                           170 non-null    int64\n",
      " 16  happy                          170 non-null    int64\n",
      " 17  marriage                       170 non-null    int64\n",
      " 18  roles                          170 non-null    int64\n",
      " 19  trust                          170 non-null    int64\n",
      " 20  likes                          170 non-null    int64\n",
      " 21  care_sick                      170 non-null    int64\n",
      " 22  fav_food                       170 non-null    int64\n",
      " 23  stresses                       170 non-null    int64\n",
      " 24  inner_world                    170 non-null    int64\n",
      " 25  anxieties                      170 non-null    int64\n",
      " 26  current_stress                 170 non-null    int64\n",
      " 27  hopes_wishes                   170 non-null    int64\n",
      " 28  know_well                      170 non-null    int64\n",
      " 29  friends_social                 170 non-null    int64\n",
      " 30  Aggro_argue                    170 non-null    int64\n",
      " 31  Always_never                   170 non-null    int64\n",
      " 32  negative_personality           170 non-null    int64\n",
      " 33  offensive_expressions          170 non-null    int64\n",
      " 34  insult                         170 non-null    int64\n",
      " 35  humiliate                      170 non-null    int64\n",
      " 36  not_calm                       170 non-null    int64\n",
      " 37  hate_subjects                  170 non-null    int64\n",
      " 38  sudden_discussion              170 non-null    int64\n",
      " 39  idk_what's_going_on            170 non-null    int64\n",
      " 40  calm_breaks                    170 non-null    int64\n",
      " 41  argue_then_leave               170 non-null    int64\n",
      " 42  silent_for_calm                170 non-null    int64\n",
      " 43  good_to_leave_home             170 non-null    int64\n",
      " 44  silence_instead_of_discussion  170 non-null    int64\n",
      " 45  silence_for_harm               170 non-null    int64\n",
      " 46  silence_fear_anger             170 non-null    int64\n",
      " 47  I'm_right                      170 non-null    int64\n",
      " 48  accusations                    170 non-null    int64\n",
      " 49  I'm_not_guilty                 170 non-null    int64\n",
      " 50  I'm_not_wrong                  170 non-null    int64\n",
      " 51  no_hesitancy_inadequate        170 non-null    int64\n",
      " 52  you're_inadequate              170 non-null    int64\n",
      " 53  incompetence                   170 non-null    int64\n",
      " 54  Divorce_Y_N                    170 non-null    int64\n",
      "dtypes: int64(55)\n",
      "memory usage: 73.2 KB\n"
     ]
    }
   ],
   "source": [
    "df.info()"
   ]
  },
  {
   "cell_type": "markdown",
   "id": "9dfa2fe3",
   "metadata": {},
   "source": [
    "### spilting the dataset into X and Y Which is predicting and Target "
   ]
  },
  {
   "cell_type": "code",
   "execution_count": 5,
   "id": "8e38d48f",
   "metadata": {},
   "outputs": [],
   "source": [
    "x=df.iloc[:,: -1].values"
   ]
  },
  {
   "cell_type": "code",
   "execution_count": 6,
   "id": "fad456e9",
   "metadata": {},
   "outputs": [],
   "source": [
    "y=df.iloc[:,-1].values"
   ]
  },
  {
   "cell_type": "markdown",
   "id": "707f1ed8",
   "metadata": {},
   "source": [
    "### Importing library for training and testing X and Y varaible "
   ]
  },
  {
   "cell_type": "code",
   "execution_count": 7,
   "id": "99a35bf3",
   "metadata": {},
   "outputs": [],
   "source": [
    "from sklearn.model_selection import train_test_split"
   ]
  },
  {
   "cell_type": "markdown",
   "id": "249d392c",
   "metadata": {},
   "source": [
    "### dividing the data into two part which is training and testing and training make up 80% of the data and testing is 20% while random state start from 0"
   ]
  },
  {
   "cell_type": "code",
   "execution_count": 8,
   "id": "0a263ecf",
   "metadata": {},
   "outputs": [],
   "source": [
    "x_test,x_train,y_test,y_train =train_test_split(x,y,test_size=0.2,random_state=0)"
   ]
  },
  {
   "cell_type": "markdown",
   "id": "27ff8471",
   "metadata": {},
   "source": [
    "### showing the output of the  X TEST values"
   ]
  },
  {
   "cell_type": "code",
   "execution_count": 9,
   "id": "8d5f3585",
   "metadata": {},
   "outputs": [
    {
     "name": "stdout",
     "output_type": "stream",
     "text": [
      "[[0 1 1 ... 1 1 0]\n",
      " [1 1 0 ... 1 1 1]\n",
      " [0 0 0 ... 2 4 1]\n",
      " ...\n",
      " [4 2 2 ... 4 3 4]\n",
      " [0 0 0 ... 3 3 2]\n",
      " [3 3 2 ... 4 4 4]]\n"
     ]
    }
   ],
   "source": [
    "print(x_test)"
   ]
  },
  {
   "cell_type": "markdown",
   "id": "cf78daae",
   "metadata": {},
   "source": [
    "### showing the output of the Y test values"
   ]
  },
  {
   "cell_type": "code",
   "execution_count": 10,
   "id": "91fa34f7",
   "metadata": {},
   "outputs": [
    {
     "name": "stdout",
     "output_type": "stream",
     "text": [
      "[0 0 0 0 0 1 1 0 1 0 1 0 1 0 1 0 0 1 1 1 0 1 0 0 0 1 0 0 0 0 0 0 1 1 1 0 0\n",
      " 1 1 0 1 0 0 0 0 0 0 1 0 0 1 0 0 1 1 1 0 1 0 1 0 1 1 1 1 1 1 0 0 1 1 1 0 0\n",
      " 1 0 0 1 1 0 0 1 1 0 1 1 1 0 1 1 0 0 0 1 0 0 1 1 1 0 0 1 1 0 1 0 0 0 1 0 1\n",
      " 0 1 1 0 0 0 1 1 1 1 0 0 1 1 0 0 1 0 1 1 1 0 1 0 1]\n"
     ]
    }
   ],
   "source": [
    "print(y_test)"
   ]
  },
  {
   "cell_type": "markdown",
   "id": "5b42f726",
   "metadata": {},
   "source": [
    "### importing standardscaler library to improve the model or make the modl more efficient"
   ]
  },
  {
   "cell_type": "code",
   "execution_count": 11,
   "id": "f90c7bec",
   "metadata": {},
   "outputs": [],
   "source": [
    "from sklearn.preprocessing import StandardScaler"
   ]
  },
  {
   "cell_type": "code",
   "execution_count": 12,
   "id": "674e3ae5",
   "metadata": {},
   "outputs": [],
   "source": [
    "sc = StandardScaler()"
   ]
  },
  {
   "cell_type": "markdown",
   "id": "2046a976",
   "metadata": {},
   "source": [
    "### Inserting standardscaler to the train X and Test y  array"
   ]
  },
  {
   "cell_type": "code",
   "execution_count": 13,
   "id": "48d0ac56",
   "metadata": {},
   "outputs": [],
   "source": [
    "X_train=sc.fit_transform(x_train)"
   ]
  },
  {
   "cell_type": "code",
   "execution_count": 14,
   "id": "5529c58b",
   "metadata": {},
   "outputs": [],
   "source": [
    "X_test=sc.fit_transform(x_test)"
   ]
  },
  {
   "cell_type": "markdown",
   "id": "8390f90a",
   "metadata": {},
   "source": [
    "### showing the output of the x test values after transformation with standardscalar "
   ]
  },
  {
   "cell_type": "code",
   "execution_count": 15,
   "id": "01e067f3",
   "metadata": {},
   "outputs": [
    {
     "name": "stdout",
     "output_type": "stream",
     "text": [
      "[[-1.10049842 -0.43062816 -0.52146214 ... -1.04553597 -0.80891298\n",
      "  -1.24018386]\n",
      " [-0.49455597 -0.43062816 -1.20337418 ... -1.04553597 -0.80891298\n",
      "  -0.63128493]\n",
      " [-1.10049842 -1.09614441 -1.20337418 ... -0.36518721  1.20350468\n",
      "  -0.63128493]\n",
      " ...\n",
      " [ 1.32327138  0.23488809  0.16044989 ...  0.99551033  0.53269879\n",
      "   1.19541188]\n",
      " [-1.10049842 -1.09614441 -1.20337418 ...  0.31516156  0.53269879\n",
      "  -0.02238599]\n",
      " [ 0.71732893  0.90040434  0.16044989 ...  0.99551033  1.20350468\n",
      "   1.19541188]]\n"
     ]
    }
   ],
   "source": [
    "print(X_test)"
   ]
  },
  {
   "cell_type": "markdown",
   "id": "b6dfeda1",
   "metadata": {},
   "source": [
    "### showing the output of the X train variables after transformation with scandardscalar "
   ]
  },
  {
   "cell_type": "code",
   "execution_count": 16,
   "id": "166da284",
   "metadata": {},
   "outputs": [
    {
     "name": "stdout",
     "output_type": "stream",
     "text": [
      "[[-0.41303706  0.24890955 -1.51522882 ... -0.29827499 -0.90101825\n",
      "  -1.09980088]\n",
      " [-1.08176373 -1.28980404  0.20203051 ... -0.29827499 -0.24921781\n",
      "  -1.09980088]\n",
      " [-1.08176373 -1.28980404 -1.51522882 ...  1.05390498  0.40258262\n",
      "  -0.52452042]\n",
      " ...\n",
      " [-1.08176373 -1.28980404 -1.51522882 ... -0.97436498 -1.55281868\n",
      "   0.05076004]\n",
      " [ 1.59314295  0.24890955  1.06066017 ...  1.05390498  1.05438306\n",
      "   1.20132096]\n",
      " [ 0.25568961  0.24890955 -0.65659915 ... -0.97436498 -0.90101825\n",
      "  -0.52452042]]\n"
     ]
    }
   ],
   "source": [
    "print(X_train)"
   ]
  },
  {
   "cell_type": "markdown",
   "id": "f065309a",
   "metadata": {},
   "source": [
    "### importing linear regression model "
   ]
  },
  {
   "cell_type": "code",
   "execution_count": 17,
   "id": "04f149f7",
   "metadata": {},
   "outputs": [],
   "source": [
    "from sklearn.linear_model import LogisticRegression"
   ]
  },
  {
   "cell_type": "code",
   "execution_count": 18,
   "id": "fdc98686",
   "metadata": {},
   "outputs": [],
   "source": [
    "classifier = LogisticRegression(random_state=0)"
   ]
  },
  {
   "cell_type": "code",
   "execution_count": 19,
   "id": "3d936457",
   "metadata": {},
   "outputs": [
    {
     "data": {
      "text/plain": [
       "LogisticRegression(random_state=0)"
      ]
     },
     "execution_count": 19,
     "metadata": {},
     "output_type": "execute_result"
    }
   ],
   "source": [
    "classifier .fit(X_train,y_train)"
   ]
  },
  {
   "cell_type": "code",
   "execution_count": 20,
   "id": "910cbb50",
   "metadata": {},
   "outputs": [],
   "source": [
    "y_pred=classifier.predict(X_test)"
   ]
  },
  {
   "cell_type": "code",
   "execution_count": null,
   "id": "a1a8103e",
   "metadata": {},
   "outputs": [],
   "source": []
  },
  {
   "cell_type": "markdown",
   "id": "92676259",
   "metadata": {},
   "source": [
    "### importing confusion matrix to test the accuracy of tje logistic regression "
   ]
  },
  {
   "cell_type": "code",
   "execution_count": 21,
   "id": "e23ba6b7",
   "metadata": {},
   "outputs": [],
   "source": [
    "from sklearn.metrics import confusion_matrix,accuracy_score\n",
    "from sklearn import metrics"
   ]
  },
  {
   "cell_type": "code",
   "execution_count": 22,
   "id": "d68e4761",
   "metadata": {},
   "outputs": [],
   "source": [
    "cn= confusion_matrix(y_test,y_pred)"
   ]
  },
  {
   "cell_type": "markdown",
   "id": "ac0e3540",
   "metadata": {},
   "source": [
    "### checking the output of confuse matrix"
   ]
  },
  {
   "cell_type": "code",
   "execution_count": 23,
   "id": "32376520",
   "metadata": {},
   "outputs": [
    {
     "name": "stdout",
     "output_type": "stream",
     "text": [
      "[[70  0]\n",
      " [ 1 65]]\n"
     ]
    }
   ],
   "source": [
    "print(cn)"
   ]
  },
  {
   "cell_type": "markdown",
   "id": "21b718b9",
   "metadata": {},
   "source": [
    "### checking the accuracy of the classifer "
   ]
  },
  {
   "cell_type": "code",
   "execution_count": 24,
   "id": "efbc366f",
   "metadata": {},
   "outputs": [
    {
     "data": {
      "text/plain": [
       "0.9926470588235294"
      ]
     },
     "execution_count": 24,
     "metadata": {},
     "output_type": "execute_result"
    }
   ],
   "source": [
    "accuracy_score(y_test,y_pred)"
   ]
  },
  {
   "cell_type": "code",
   "execution_count": 25,
   "id": "02624b04",
   "metadata": {},
   "outputs": [],
   "source": [
    "cm=metrics.confusion_matrix(y_test,y_pred)"
   ]
  },
  {
   "cell_type": "code",
   "execution_count": 32,
   "id": "ad67f805",
   "metadata": {},
   "outputs": [],
   "source": [
    "cm_display=metrics.ConfusionMatrixDisplay(confusion_matrix=cm,display_labels = [False,True])"
   ]
  },
  {
   "cell_type": "markdown",
   "id": "fa668bec",
   "metadata": {},
   "source": [
    "### display the diagram confusion"
   ]
  },
  {
   "cell_type": "code",
   "execution_count": 33,
   "id": "ab64f79b",
   "metadata": {},
   "outputs": [
    {
     "data": {
      "text/plain": [
       "<sklearn.metrics._plot.confusion_matrix.ConfusionMatrixDisplay at 0x27b84b5a9d0>"
      ]
     },
     "execution_count": 33,
     "metadata": {},
     "output_type": "execute_result"
    },
    {
     "data": {
      "image/png": "[encoded data removed]",
      "text/plain": [
       "<Figure size 432x288 with 2 Axes>"
      ]
     },
     "metadata": {
      "needs_background": "light"
     },
     "output_type": "display_data"
    }
   ],
   "source": [
    "cm_display.plot()\n"
   ]
  },
  {
   "cell_type": "code",
   "execution_count": 30,
   "id": "2fff5302",
   "metadata": {},
   "outputs": [],
   "source": [
    "plt.show()"
   ]
  },
  {
   "cell_type": "code",
   "execution_count": 35,
   "id": "da8ce4f7",
   "metadata": {},
   "outputs": [],
   "source": [
    "precision =metrics.precision_score(y_test,y_pred)"
   ]
  },
  {
   "cell_type": "code",
   "execution_count": 36,
   "id": "9bdede96",
   "metadata": {},
   "outputs": [
    {
     "name": "stdout",
     "output_type": "stream",
     "text": [
      "1.0\n"
     ]
    }
   ],
   "source": [
    "print(precision)"
   ]
  },
  {
   "cell_type": "code",
   "execution_count": 37,
   "id": "f1441a5c",
   "metadata": {},
   "outputs": [],
   "source": [
    "sensitivity_recall=metrics.recall_score(y_test,y_pred)"
   ]
  },
  {
   "cell_type": "code",
   "execution_count": 38,
   "id": "ec70c5d0",
   "metadata": {},
   "outputs": [
    {
     "name": "stdout",
     "output_type": "stream",
     "text": [
      "0.9848484848484849\n"
     ]
    }
   ],
   "source": [
    "print(sensitivity_recall)"
   ]
  },
  {
   "cell_type": "code",
   "execution_count": 39,
   "id": "772c5186",
   "metadata": {},
   "outputs": [],
   "source": [
    "F1_Score= metrics.f1_score(y_test,y_pred)"
   ]
  },
  {
   "cell_type": "code",
   "execution_count": 41,
   "id": "99d5c5be",
   "metadata": {},
   "outputs": [
    {
     "name": "stdout",
     "output_type": "stream",
     "text": [
      "0.9923664122137404\n"
     ]
    }
   ],
   "source": [
    "print(F1_Score)"
   ]
  },
  {
   "cell_type": "code",
   "execution_count": null,
   "id": "1213177d",
   "metadata": {},
   "outputs": [],
   "source": []
  }
 ],
 "metadata": {
  "kernelspec": {
   "display_name": "Python 3 (ipykernel)",
   "language": "python",
   "name": "python3"
  },
  "language_info": {
   "codemirror_mode": {
    "name": "ipython",
    "version": 3
   },
   "file_extension": ".py",
   "mimetype": "text/x-python",
   "name": "python",
   "nbconvert_exporter": "python",
   "pygments_lexer": "ipython3",
   "version": "3.9.7"
  }
 },
 "nbformat": 4,
 "nbformat_minor": 5
}
